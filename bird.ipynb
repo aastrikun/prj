{
  "nbformat": 4,
  "nbformat_minor": 0,
  "metadata": {
    "colab": {
      "provenance": []
    },
    "kernelspec": {
      "name": "python3",
      "display_name": "Python 3"
    },
    "language_info": {
      "name": "python"
    }
  },
  "cells": [
    {
      "cell_type": "markdown",
      "source": [
        "РАСПОЗНАВАНИЕ ИЗОБРАЖЕНИЙ С ПОМОЩЬЮ CNN"
      ],
      "metadata": {
        "id": "z8j7uXHcl0-x"
      }
    },
    {
      "cell_type": "code",
      "source": [
        "!pip install tensorflow\n"
      ],
      "metadata": {
        "colab": {
          "base_uri": "https://localhost:8080/"
        },
        "id": "vqDsle3nrtMG",
        "outputId": "b90f4949-b751-40dd-8788-4dd842c27459"
      },
      "execution_count": 2,
      "outputs": [
        {
          "output_type": "stream",
          "name": "stdout",
          "text": [
            "Requirement already satisfied: tensorflow in /usr/local/lib/python3.10/dist-packages (2.15.0)\n",
            "Requirement already satisfied: absl-py>=1.0.0 in /usr/local/lib/python3.10/dist-packages (from tensorflow) (1.4.0)\n",
            "Requirement already satisfied: astunparse>=1.6.0 in /usr/local/lib/python3.10/dist-packages (from tensorflow) (1.6.3)\n",
            "Requirement already satisfied: flatbuffers>=23.5.26 in /usr/local/lib/python3.10/dist-packages (from tensorflow) (24.3.25)\n",
            "Requirement already satisfied: gast!=0.5.0,!=0.5.1,!=0.5.2,>=0.2.1 in /usr/local/lib/python3.10/dist-packages (from tensorflow) (0.5.4)\n",
            "Requirement already satisfied: google-pasta>=0.1.1 in /usr/local/lib/python3.10/dist-packages (from tensorflow) (0.2.0)\n",
            "Requirement already satisfied: h5py>=2.9.0 in /usr/local/lib/python3.10/dist-packages (from tensorflow) (3.9.0)\n",
            "Requirement already satisfied: libclang>=13.0.0 in /usr/local/lib/python3.10/dist-packages (from tensorflow) (18.1.1)\n",
            "Requirement already satisfied: ml-dtypes~=0.2.0 in /usr/local/lib/python3.10/dist-packages (from tensorflow) (0.2.0)\n",
            "Requirement already satisfied: numpy<2.0.0,>=1.23.5 in /usr/local/lib/python3.10/dist-packages (from tensorflow) (1.25.2)\n",
            "Requirement already satisfied: opt-einsum>=2.3.2 in /usr/local/lib/python3.10/dist-packages (from tensorflow) (3.3.0)\n",
            "Requirement already satisfied: packaging in /usr/local/lib/python3.10/dist-packages (from tensorflow) (24.0)\n",
            "Requirement already satisfied: protobuf!=4.21.0,!=4.21.1,!=4.21.2,!=4.21.3,!=4.21.4,!=4.21.5,<5.0.0dev,>=3.20.3 in /usr/local/lib/python3.10/dist-packages (from tensorflow) (3.20.3)\n",
            "Requirement already satisfied: setuptools in /usr/local/lib/python3.10/dist-packages (from tensorflow) (67.7.2)\n",
            "Requirement already satisfied: six>=1.12.0 in /usr/local/lib/python3.10/dist-packages (from tensorflow) (1.16.0)\n",
            "Requirement already satisfied: termcolor>=1.1.0 in /usr/local/lib/python3.10/dist-packages (from tensorflow) (2.4.0)\n",
            "Requirement already satisfied: typing-extensions>=3.6.6 in /usr/local/lib/python3.10/dist-packages (from tensorflow) (4.12.1)\n",
            "Requirement already satisfied: wrapt<1.15,>=1.11.0 in /usr/local/lib/python3.10/dist-packages (from tensorflow) (1.14.1)\n",
            "Requirement already satisfied: tensorflow-io-gcs-filesystem>=0.23.1 in /usr/local/lib/python3.10/dist-packages (from tensorflow) (0.37.0)\n",
            "Requirement already satisfied: grpcio<2.0,>=1.24.3 in /usr/local/lib/python3.10/dist-packages (from tensorflow) (1.64.1)\n",
            "Requirement already satisfied: tensorboard<2.16,>=2.15 in /usr/local/lib/python3.10/dist-packages (from tensorflow) (2.15.2)\n",
            "Requirement already satisfied: tensorflow-estimator<2.16,>=2.15.0 in /usr/local/lib/python3.10/dist-packages (from tensorflow) (2.15.0)\n",
            "Requirement already satisfied: keras<2.16,>=2.15.0 in /usr/local/lib/python3.10/dist-packages (from tensorflow) (2.15.0)\n",
            "Requirement already satisfied: wheel<1.0,>=0.23.0 in /usr/local/lib/python3.10/dist-packages (from astunparse>=1.6.0->tensorflow) (0.43.0)\n",
            "Requirement already satisfied: google-auth<3,>=1.6.3 in /usr/local/lib/python3.10/dist-packages (from tensorboard<2.16,>=2.15->tensorflow) (2.27.0)\n",
            "Requirement already satisfied: google-auth-oauthlib<2,>=0.5 in /usr/local/lib/python3.10/dist-packages (from tensorboard<2.16,>=2.15->tensorflow) (1.2.0)\n",
            "Requirement already satisfied: markdown>=2.6.8 in /usr/local/lib/python3.10/dist-packages (from tensorboard<2.16,>=2.15->tensorflow) (3.6)\n",
            "Requirement already satisfied: requests<3,>=2.21.0 in /usr/local/lib/python3.10/dist-packages (from tensorboard<2.16,>=2.15->tensorflow) (2.31.0)\n",
            "Requirement already satisfied: tensorboard-data-server<0.8.0,>=0.7.0 in /usr/local/lib/python3.10/dist-packages (from tensorboard<2.16,>=2.15->tensorflow) (0.7.2)\n",
            "Requirement already satisfied: werkzeug>=1.0.1 in /usr/local/lib/python3.10/dist-packages (from tensorboard<2.16,>=2.15->tensorflow) (3.0.3)\n",
            "Requirement already satisfied: cachetools<6.0,>=2.0.0 in /usr/local/lib/python3.10/dist-packages (from google-auth<3,>=1.6.3->tensorboard<2.16,>=2.15->tensorflow) (5.3.3)\n",
            "Requirement already satisfied: pyasn1-modules>=0.2.1 in /usr/local/lib/python3.10/dist-packages (from google-auth<3,>=1.6.3->tensorboard<2.16,>=2.15->tensorflow) (0.4.0)\n",
            "Requirement already satisfied: rsa<5,>=3.1.4 in /usr/local/lib/python3.10/dist-packages (from google-auth<3,>=1.6.3->tensorboard<2.16,>=2.15->tensorflow) (4.9)\n",
            "Requirement already satisfied: requests-oauthlib>=0.7.0 in /usr/local/lib/python3.10/dist-packages (from google-auth-oauthlib<2,>=0.5->tensorboard<2.16,>=2.15->tensorflow) (1.3.1)\n",
            "Requirement already satisfied: charset-normalizer<4,>=2 in /usr/local/lib/python3.10/dist-packages (from requests<3,>=2.21.0->tensorboard<2.16,>=2.15->tensorflow) (3.3.2)\n",
            "Requirement already satisfied: idna<4,>=2.5 in /usr/local/lib/python3.10/dist-packages (from requests<3,>=2.21.0->tensorboard<2.16,>=2.15->tensorflow) (3.7)\n",
            "Requirement already satisfied: urllib3<3,>=1.21.1 in /usr/local/lib/python3.10/dist-packages (from requests<3,>=2.21.0->tensorboard<2.16,>=2.15->tensorflow) (2.0.7)\n",
            "Requirement already satisfied: certifi>=2017.4.17 in /usr/local/lib/python3.10/dist-packages (from requests<3,>=2.21.0->tensorboard<2.16,>=2.15->tensorflow) (2024.6.2)\n",
            "Requirement already satisfied: MarkupSafe>=2.1.1 in /usr/local/lib/python3.10/dist-packages (from werkzeug>=1.0.1->tensorboard<2.16,>=2.15->tensorflow) (2.1.5)\n",
            "Requirement already satisfied: pyasn1<0.7.0,>=0.4.6 in /usr/local/lib/python3.10/dist-packages (from pyasn1-modules>=0.2.1->google-auth<3,>=1.6.3->tensorboard<2.16,>=2.15->tensorflow) (0.6.0)\n",
            "Requirement already satisfied: oauthlib>=3.0.0 in /usr/local/lib/python3.10/dist-packages (from requests-oauthlib>=0.7.0->google-auth-oauthlib<2,>=0.5->tensorboard<2.16,>=2.15->tensorflow) (3.2.2)\n"
          ]
        }
      ]
    },
    {
      "cell_type": "code",
      "source": [
        "import tensorflow as tf\n",
        "from tensorflow.keras.datasets import cifar10\n",
        "from tensorflow.keras.models import Sequential\n",
        "from tensorflow.keras.layers import Dense, Dropout, Flatten, Conv2D, MaxPooling2D\n",
        "from pathlib import Path\n",
        "from tensorflow.keras.utils import to_categorical\n"
      ],
      "metadata": {
        "id": "M2gOerlLmOxw"
      },
      "execution_count": 4,
      "outputs": []
    },
    {
      "cell_type": "markdown",
      "source": [
        "После импорта библиотек будет произведена загрузка набора данных для обучения и тестирования\n",
        "x_tr=x train\n",
        "\n",
        "x_te=x test\n",
        "\n",
        "y_tr=y train\n",
        "\n",
        "y_te=y test"
      ],
      "metadata": {
        "id": "CLSwcOXMnL7Q"
      }
    },
    {
      "cell_type": "code",
      "source": [
        "(x_tr,y_tr),(x_te,y_te)=cifar10.load_data()"
      ],
      "metadata": {
        "colab": {
          "base_uri": "https://localhost:8080/"
        },
        "id": "9h2u5rM8nR0X",
        "outputId": "99022843-cefa-4cca-c6e1-bfa25ed2abdd"
      },
      "execution_count": 5,
      "outputs": [
        {
          "output_type": "stream",
          "name": "stdout",
          "text": [
            "Downloading data from https://www.cs.toronto.edu/~kriz/cifar-10-python.tar.gz\n",
            "170498071/170498071 [==============================] - 3s 0us/step\n"
          ]
        }
      ]
    },
    {
      "cell_type": "markdown",
      "source": [
        "Нормализация набора данных\n",
        "\n",
        "Тип данных изменяется на 32-битный тип float, а затем нормализуется."
      ],
      "metadata": {
        "id": "UcoxyeXKnfTI"
      }
    },
    {
      "cell_type": "code",
      "source": [
        "x_tr=x_tr.astype('float32')\n",
        "x_te=x_te.astype('float32')\n",
        "x_tr/=255.0\n",
        "x_te/=255.0"
      ],
      "metadata": {
        "id": "DWh6e1l2nglm"
      },
      "execution_count": 6,
      "outputs": []
    },
    {
      "cell_type": "markdown",
      "source": [
        "после нормализации преобразовываем векторы классов в бинарные матрицы классов"
      ],
      "metadata": {
        "id": "WXovXwYyn0Bg"
      }
    },
    {
      "cell_type": "code",
      "source": [
        "y_tr=to_categorical(y_tr,10)\n",
        "y_te=to_categorical(y_te,10)"
      ],
      "metadata": {
        "id": "rpgvIANtoS2f"
      },
      "execution_count": 7,
      "outputs": []
    },
    {
      "cell_type": "markdown",
      "source": [
        "keras Conv2D - это слой двумерной свертки. Этот слой создает ядро свертки, которое наматывается на вход слоев, что позволяет получить тензор выходов.\n",
        "\n",
        "Kernel: В обработке изображений ядро - это сверточная матрица или маска, которая может использоваться для размытия, повышения резкости, рельефности, определения краев и т. д. путем свертки ядра и изображения."
      ],
      "metadata": {
        "id": "sqcs_c9SoWxA"
      }
    },
    {
      "cell_type": "code",
      "source": [
        "model=Sequential()\n",
        "model.add(Conv2D(32,(3,3),padding='same',input_shape=(32,32,3),activation='relu'))\n",
        "model.add(Conv2D(32,(3,3),activation='relu'))\n",
        "model.add(MaxPooling2D(pool_size=(2,2)))\n",
        "model.add(Dropout(0.25))\n",
        "\n",
        "model.add(Conv2D(64,(3,3),padding='same',activation='relu'))\n",
        "model.add(Conv2D(32,(3,3),activation='relu'))\n",
        "model.add(MaxPooling2D(pool_size=(2,2)))\n",
        "model.add(Dropout(0.25))\n",
        "\n",
        "model.add(Flatten())\n",
        "model.add(Dense(512,activation='relu'))\n",
        "model.add(Dropout(0.5))\n",
        "model.add(Dense(10,activation='softmax'))"
      ],
      "metadata": {
        "id": "efg0Zx_Boo83"
      },
      "execution_count": 8,
      "outputs": []
    },
    {
      "cell_type": "markdown",
      "source": [
        "Компиляция модели осуществляется с помощью (model.compile)."
      ],
      "metadata": {
        "id": "jyhB47VHoxN3"
      }
    },
    {
      "cell_type": "code",
      "source": [
        "model.compile(loss='categorical_crossentropy',optimizer='adam',metrics=['accuracy'])\n",
        "\n",
        "model.summary()"
      ],
      "metadata": {
        "colab": {
          "base_uri": "https://localhost:8080/"
        },
        "id": "t6aTyGFOo3Yv",
        "outputId": "dedcb6bc-ffb9-41c6-faee-c6a66166405e"
      },
      "execution_count": 9,
      "outputs": [
        {
          "output_type": "stream",
          "name": "stdout",
          "text": [
            "Model: \"sequential\"\n",
            "_________________________________________________________________\n",
            " Layer (type)                Output Shape              Param #   \n",
            "=================================================================\n",
            " conv2d (Conv2D)             (None, 32, 32, 32)        896       \n",
            "                                                                 \n",
            " conv2d_1 (Conv2D)           (None, 30, 30, 32)        9248      \n",
            "                                                                 \n",
            " max_pooling2d (MaxPooling2  (None, 15, 15, 32)        0         \n",
            " D)                                                              \n",
            "                                                                 \n",
            " dropout (Dropout)           (None, 15, 15, 32)        0         \n",
            "                                                                 \n",
            " conv2d_2 (Conv2D)           (None, 15, 15, 64)        18496     \n",
            "                                                                 \n",
            " conv2d_3 (Conv2D)           (None, 13, 13, 32)        18464     \n",
            "                                                                 \n",
            " max_pooling2d_1 (MaxPoolin  (None, 6, 6, 32)          0         \n",
            " g2D)                                                            \n",
            "                                                                 \n",
            " dropout_1 (Dropout)         (None, 6, 6, 32)          0         \n",
            "                                                                 \n",
            " flatten (Flatten)           (None, 1152)              0         \n",
            "                                                                 \n",
            " dense (Dense)               (None, 512)               590336    \n",
            "                                                                 \n",
            " dropout_2 (Dropout)         (None, 512)               0         \n",
            "                                                                 \n",
            " dense_1 (Dense)             (None, 10)                5130      \n",
            "                                                                 \n",
            "=================================================================\n",
            "Total params: 642570 (2.45 MB)\n",
            "Trainable params: 642570 (2.45 MB)\n",
            "Non-trainable params: 0 (0.00 Byte)\n",
            "_________________________________________________________________\n"
          ]
        }
      ]
    },
    {
      "cell_type": "markdown",
      "source": [
        "Подгонка данных для модели.Здесь данные подгоняются в соответствии с размером партии. Передаются обучающие данные x,y. Затем передаются проверенные данные Test of x,y."
      ],
      "metadata": {
        "id": "YsOQZ4v_o8VX"
      }
    },
    {
      "cell_type": "code",
      "source": [
        "model.fit(x_tr,y_tr,batch_size=32,epochs=8,validation_data=(x_te,y_te),shuffle=True)"
      ],
      "metadata": {
        "colab": {
          "base_uri": "https://localhost:8080/"
        },
        "id": "LNhkFne0pJ02",
        "outputId": "9c63bc1e-c830-4908-a528-7458411c7e36"
      },
      "execution_count": 10,
      "outputs": [
        {
          "output_type": "stream",
          "name": "stdout",
          "text": [
            "1563/1563 [==============================] - 189s 120ms/step - loss: 1.5432 - accuracy: 0.4326 - val_loss: 1.1763 - val_accuracy: 0.5800\n",
            "Epoch 2/8\n",
            "1563/1563 [==============================] - 183s 117ms/step - loss: 1.1647 - accuracy: 0.5824 - val_loss: 1.0070 - val_accuracy: 0.6460\n",
            "Epoch 3/8\n",
            "1563/1563 [==============================] - 179s 115ms/step - loss: 1.0103 - accuracy: 0.6421 - val_loss: 0.8679 - val_accuracy: 0.6930\n",
            "Epoch 4/8\n",
            "1563/1563 [==============================] - 181s 116ms/step - loss: 0.9193 - accuracy: 0.6748 - val_loss: 0.7934 - val_accuracy: 0.7257\n",
            "Epoch 5/8\n",
            "1563/1563 [==============================] - 179s 114ms/step - loss: 0.8534 - accuracy: 0.6997 - val_loss: 0.7798 - val_accuracy: 0.7305\n",
            "Epoch 6/8\n",
            "1563/1563 [==============================] - 181s 116ms/step - loss: 0.8065 - accuracy: 0.7141 - val_loss: 0.7498 - val_accuracy: 0.7422\n",
            "Epoch 7/8\n",
            "1563/1563 [==============================] - 180s 115ms/step - loss: 0.7752 - accuracy: 0.7309 - val_loss: 0.7458 - val_accuracy: 0.7482\n",
            "Epoch 8/8\n",
            "1563/1563 [==============================] - 180s 115ms/step - loss: 0.7387 - accuracy: 0.7387 - val_loss: 0.7040 - val_accuracy: 0.7589\n"
          ]
        },
        {
          "output_type": "execute_result",
          "data": {
            "text/plain": [
              "<keras.src.callbacks.History at 0x7f828e01e290>"
            ]
          },
          "metadata": {},
          "execution_count": 10
        }
      ]
    },
    {
      "cell_type": "markdown",
      "source": [
        "Сохранение архитектуры нейронной сети. Здесь данные преобразуются в json, который затем записывается в model_structure."
      ],
      "metadata": {
        "id": "wWD45igtpXCn"
      }
    },
    {
      "cell_type": "code",
      "source": [
        "model_structure=model.to_json()\n",
        "f=Path(\"model_structure.json\")\n",
        "f.write_text(model_structure)"
      ],
      "metadata": {
        "colab": {
          "base_uri": "https://localhost:8080/"
        },
        "id": "Tcc3OOyvpYDH",
        "outputId": "2697d659-2c4a-4088-8b2e-776c57f5214a"
      },
      "execution_count": 11,
      "outputs": [
        {
          "output_type": "execute_result",
          "data": {
            "text/plain": [
              "6342"
            ]
          },
          "metadata": {},
          "execution_count": 11
        }
      ]
    },
    {
      "cell_type": "markdown",
      "source": [
        "Формат сохранения - json. Мы также сохраним обученные нейронные веса для предсказаний."
      ],
      "metadata": {
        "id": "0NMXFajZpbz3"
      }
    },
    {
      "cell_type": "code",
      "source": [
        "model.save_weights(\"model_weight.h5\")"
      ],
      "metadata": {
        "id": "uLb7l-twpjP_"
      },
      "execution_count": 12,
      "outputs": []
    },
    {
      "cell_type": "markdown",
      "source": [
        "Здесь начинается основная часть работы. Предсказания будут делаться по изображениям на основе меток на них."
      ],
      "metadata": {
        "id": "kJO9ZY9ppoCX"
      }
    },
    {
      "cell_type": "code",
      "source": [
        "from keras.models import model_from_json\n",
        "from pathlib import Path\n",
        "from keras.preprocessing import image\n",
        "import numpy as np"
      ],
      "metadata": {
        "id": "aNoR_j7rpvC-"
      },
      "execution_count": 13,
      "outputs": []
    },
    {
      "cell_type": "markdown",
      "source": [
        "class_labels определены, соответственно, разделение производится на основе меток класса."
      ],
      "metadata": {
        "id": "iGldvvxyp6Ow"
      }
    },
    {
      "cell_type": "code",
      "source": [
        "class_labels=[\"Planes\",\"Car\",\"Bird\",\"Cat\",\"Deer\",\"Dog\",\"Frog\",\n",
        "              \"Horse\",\"Boat\",\"Truck\"]"
      ],
      "metadata": {
        "id": "4B7qo0H0p68W"
      },
      "execution_count": 14,
      "outputs": []
    },
    {
      "cell_type": "markdown",
      "source": [
        "Загрузка json-файла, содержащего структуру модели, которую мы загрузили после завершения подгонки модели.\n",
        "\n",
        "write_text для записи данных в json-файл.\n",
        "\n",
        "read_text для чтения данных из json-файла."
      ],
      "metadata": {
        "id": "dU1-q2EPqHan"
      }
    },
    {
      "cell_type": "code",
      "source": [
        "f=Path(\"model_structure.json\")\n",
        "model_Structure=f.read_text()"
      ],
      "metadata": {
        "id": "KUus-KNhqIP2"
      },
      "execution_count": 15,
      "outputs": []
    },
    {
      "cell_type": "markdown",
      "source": [
        "Загрузка изображения выполняется для тестирования. (load_img используется для загрузки изображения) размер используется (32,32), так как при создании модели задан размер (32,32)"
      ],
      "metadata": {
        "id": "jeWaXdQyqTBn"
      }
    },
    {
      "cell_type": "code",
      "source": [
        "from google.colab import drive\n",
        "drive.mount('/content/drive')\n",
        "# Загрузка и отображение изображения для тестирования\n",
        "img = load_img(\"/content/drive/MyDrive/Colab_Notebooks/bird.jpg\", target_size=(32, 32))\n",
        "plt.imshow(img)\n",
        "plt.axis('off')\n",
        "plt.show()"
      ],
      "metadata": {
        "colab": {
          "base_uri": "https://localhost:8080/",
          "height": 423
        },
        "id": "5tlsvpbGqUEG",
        "outputId": "47c67791-f32e-4cfb-d7d5-a4cf354112d8"
      },
      "execution_count": 29,
      "outputs": [
        {
          "output_type": "stream",
          "name": "stdout",
          "text": [
            "Drive already mounted at /content/drive; to attempt to forcibly remount, call drive.mount(\"/content/drive\", force_remount=True).\n"
          ]
        },
        {
          "output_type": "display_data",
          "data": {
            "text/plain": [
              "<Figure size 640x480 with 1 Axes>"
            ],
            "image/png": "[encoded data removed]"
          },
          "metadata": {}
        }
      ]
    },
    {
      "cell_type": "markdown",
      "source": [
        "После загрузки изображения в переменную мы должны преобразовать его в массив numpy. Здесь изображение преобразуется в массив, а затем расширяется в соответствии с размерами массива согласно строке. (Для преобразования используется img_to_array)"
      ],
      "metadata": {
        "id": "7-QZYt9Qqevn"
      }
    },
    {
      "cell_type": "code",
      "source": [
        "from tensorflow.keras.utils import img_to_array\n",
        "imgtest=img_to_array(img)\n",
        "list_of_image=np.expand_dims(imgtest,axis=0)"
      ],
      "metadata": {
        "id": "6wWI6INpqkC-"
      },
      "execution_count": 30,
      "outputs": []
    },
    {
      "cell_type": "markdown",
      "source": [
        "После преобразования в массив. Затем на основе массива делаются прогнозы."
      ],
      "metadata": {
        "id": "hFipy26Uqr5_"
      }
    },
    {
      "cell_type": "code",
      "source": [
        "res=model.predict(list_of_image)"
      ],
      "metadata": {
        "colab": {
          "base_uri": "https://localhost:8080/"
        },
        "id": "8P9VoYKnqvz2",
        "outputId": "745f894d-77cb-415f-c559-c9b89fd0ee9b"
      },
      "execution_count": 31,
      "outputs": [
        {
          "output_type": "stream",
          "name": "stdout",
          "text": [
            "1/1 [==============================] - 0s 21ms/step\n"
          ]
        }
      ]
    },
    {
      "cell_type": "markdown",
      "source": [
        "Учитывается только один результат, так как берется только одно изображение. Если есть группа изображений, то запускается цикл, или набор данных классифицируется соответствующим образом. Распечатывается массив для всех меток."
      ],
      "metadata": {
        "id": "g5VHtCZ0q7vP"
      }
    },
    {
      "cell_type": "code",
      "source": [
        "sr=res[0]\n",
        "print(sr)"
      ],
      "metadata": {
        "colab": {
          "base_uri": "https://localhost:8080/"
        },
        "id": "dPZu6RpOq8dG",
        "outputId": "a46936cb-c2df-46ef-c2a8-1b832a43c07f"
      },
      "execution_count": 32,
      "outputs": [
        {
          "output_type": "stream",
          "name": "stdout",
          "text": [
            "[0. 0. 0. 0. 0. 0. 0. 0. 0. 1.]\n"
          ]
        }
      ]
    },
    {
      "cell_type": "markdown",
      "source": [
        "Мы получим оценку, которая представляет собой вероятность всех 10 возможных классов. Когда изображение получает наивысшую оценку вероятности, ему присваивается метка. В результате будет выведена метка изображения."
      ],
      "metadata": {
        "id": "JOOMoeJkrEa3"
      }
    },
    {
      "cell_type": "code",
      "source": [
        "mostlci=int(np.argmax(sr))\n",
        "clh=class_labels[mostlci]\n",
        "print(clh,mostlci)"
      ],
      "metadata": {
        "colab": {
          "base_uri": "https://localhost:8080/"
        },
        "id": "tnAokHisrI1t",
        "outputId": "4584fb44-a4f0-49da-f9ff-2b77a819a11d"
      },
      "execution_count": 33,
      "outputs": [
        {
          "output_type": "stream",
          "name": "stdout",
          "text": [
            "Truck 9\n"
          ]
        }
      ]
    }
  ]
}