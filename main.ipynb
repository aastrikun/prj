{
  "nbformat": 4,
  "nbformat_minor": 0,
  "metadata": {
    "colab": {
      "provenance": [],
      "toc_visible": true
    },
    "kernelspec": {
      "name": "python3",
      "display_name": "Python 3"
    },
    "language_info": {
      "name": "python"
    }
  },
  "cells": [
    {
      "cell_type": "markdown",
      "source": [
        "РАСПОЗНАВАНИЕ ИЗОБРАЖЕНИЙ С ПОМОЩЬЮ CNN"
      ],
      "metadata": {
        "id": "z8j7uXHcl0-x"
      }
    },
    {
      "cell_type": "code",
      "source": [
        "import tensorflow as tf\n",
        "from tensorflow.keras.datasets import cifar10\n",
        "from tensorflow.keras.models import Sequential\n",
        "from tensorflow.keras.layers import Dense, Dropout, Flatten, Conv2D, MaxPooling2D\n",
        "from pathlib import Path\n",
        "from tensorflow.keras.utils import to_categorical\n"
      ],
      "metadata": {
        "id": "M2gOerlLmOxw"
      },
      "execution_count": 17,
      "outputs": []
    },
    {
      "cell_type": "markdown",
      "source": [
        "После импорта библиотек будет произведена загрузка набора данных для обучения и тестирования\n",
        "x_tr=x train\n",
        "\n",
        "x_te=x test\n",
        "\n",
        "y_tr=y train\n",
        "\n",
        "y_te=y test"
      ],
      "metadata": {
        "id": "CLSwcOXMnL7Q"
      }
    },
    {
      "cell_type": "code",
      "source": [
        "(x_tr,y_tr),(x_te,y_te)=cifar10.load_data()"
      ],
      "metadata": {
        "colab": {
          "base_uri": "https://localhost:8080/"
        },
        "id": "9h2u5rM8nR0X",
        "outputId": "73715c44-22c3-4988-93f8-8732c826eefa"
      },
      "execution_count": null,
      "outputs": [
        {
          "output_type": "stream",
          "name": "stdout",
          "text": [
            "Downloading data from https://www.cs.toronto.edu/~kriz/cifar-10-python.tar.gz\n",
            "170498071/170498071 [==============================] - 4s 0us/step\n"
          ]
        }
      ]
    },
    {
      "cell_type": "markdown",
      "source": [
        "Нормализация набора данных\n",
        "\n",
        "Тип данных изменяется на 32-битный тип float, а затем нормализуется."
      ],
      "metadata": {
        "id": "UcoxyeXKnfTI"
      }
    },
    {
      "cell_type": "code",
      "source": [
        "x_tr=x_tr.astype('float32')\n",
        "x_te=x_te.astype('float32')\n",
        "x_tr/=255.0\n",
        "x_te/=255.0"
      ],
      "metadata": {
        "id": "DWh6e1l2nglm"
      },
      "execution_count": null,
      "outputs": []
    },
    {
      "cell_type": "markdown",
      "source": [
        "после нормализации преобразовываем векторы классов в бинарные матрицы классов"
      ],
      "metadata": {
        "id": "WXovXwYyn0Bg"
      }
    },
    {
      "cell_type": "code",
      "source": [
        "y_tr=to_categorical(y_tr,10)\n",
        "y_te=to_categorical(y_te,10)"
      ],
      "metadata": {
        "id": "rpgvIANtoS2f"
      },
      "execution_count": null,
      "outputs": []
    },
    {
      "cell_type": "markdown",
      "source": [
        "keras Conv2D - это слой двумерной свертки. Этот слой создает ядро свертки, которое наматывается на вход слоев, что позволяет получить тензор выходов.\n",
        "\n",
        "Kernel: В обработке изображений ядро - это сверточная матрица или маска, которая может использоваться для размытия, повышения резкости, рельефности, определения краев и т. д. путем свертки ядра и изображения."
      ],
      "metadata": {
        "id": "sqcs_c9SoWxA"
      }
    },
    {
      "cell_type": "code",
      "source": [
        "model=Sequential()\n",
        "model.add(Conv2D(32,(3,3),padding='same',input_shape=(32,32,3),activation='relu'))\n",
        "model.add(Conv2D(32,(3,3),activation='relu'))\n",
        "model.add(MaxPooling2D(pool_size=(2,2)))\n",
        "model.add(Dropout(0.25))\n",
        "\n",
        "model.add(Conv2D(64,(3,3),padding='same',activation='relu'))\n",
        "model.add(Conv2D(32,(3,3),activation='relu'))\n",
        "model.add(MaxPooling2D(pool_size=(2,2)))\n",
        "model.add(Dropout(0.25))\n",
        "\n",
        "model.add(Flatten())\n",
        "model.add(Dense(512,activation='relu'))\n",
        "model.add(Dropout(0.5))\n",
        "model.add(Dense(10,activation='softmax'))"
      ],
      "metadata": {
        "id": "efg0Zx_Boo83"
      },
      "execution_count": null,
      "outputs": []
    },
    {
      "cell_type": "markdown",
      "source": [
        "Компиляция модели осуществляется с помощью (model.compile)."
      ],
      "metadata": {
        "id": "jyhB47VHoxN3"
      }
    },
    {
      "cell_type": "code",
      "source": [
        "model.compile(loss='categorical_crossentropy',optimizer='adam',metrics=['accuracy'])\n",
        "\n",
        "model.summary()"
      ],
      "metadata": {
        "colab": {
          "base_uri": "https://localhost:8080/"
        },
        "id": "t6aTyGFOo3Yv",
        "outputId": "38bec92e-f61d-4422-c800-3dde8ebb6fb7"
      },
      "execution_count": null,
      "outputs": [
        {
          "output_type": "stream",
          "name": "stdout",
          "text": [
            "Model: \"sequential\"\n",
            "_________________________________________________________________\n",
            " Layer (type)                Output Shape              Param #   \n",
            "=================================================================\n",
            " conv2d (Conv2D)             (None, 32, 32, 32)        896       \n",
            "                                                                 \n",
            " conv2d_1 (Conv2D)           (None, 30, 30, 32)        9248      \n",
            "                                                                 \n",
            " max_pooling2d (MaxPooling2  (None, 15, 15, 32)        0         \n",
            " D)                                                              \n",
            "                                                                 \n",
            " dropout (Dropout)           (None, 15, 15, 32)        0         \n",
            "                                                                 \n",
            " conv2d_2 (Conv2D)           (None, 15, 15, 64)        18496     \n",
            "                                                                 \n",
            " conv2d_3 (Conv2D)           (None, 13, 13, 32)        18464     \n",
            "                                                                 \n",
            " max_pooling2d_1 (MaxPoolin  (None, 6, 6, 32)          0         \n",
            " g2D)                                                            \n",
            "                                                                 \n",
            " dropout_1 (Dropout)         (None, 6, 6, 32)          0         \n",
            "                                                                 \n",
            " flatten (Flatten)           (None, 1152)              0         \n",
            "                                                                 \n",
            " dense (Dense)               (None, 512)               590336    \n",
            "                                                                 \n",
            " dropout_2 (Dropout)         (None, 512)               0         \n",
            "                                                                 \n",
            " dense_1 (Dense)             (None, 10)                5130      \n",
            "                                                                 \n",
            "=================================================================\n",
            "Total params: 642570 (2.45 MB)\n",
            "Trainable params: 642570 (2.45 MB)\n",
            "Non-trainable params: 0 (0.00 Byte)\n",
            "_________________________________________________________________\n"
          ]
        }
      ]
    },
    {
      "cell_type": "markdown",
      "source": [
        "Подгонка данных для модели.Здесь данные подгоняются в соответствии с размером партии. Передаются обучающие данные x,y. Затем передаются проверенные данные Test of x,y."
      ],
      "metadata": {
        "id": "YsOQZ4v_o8VX"
      }
    },
    {
      "cell_type": "code",
      "source": [
        "model.fit(x_tr,y_tr,batch_size=32,epochs=20,validation_data=(x_te,y_te),shuffle=True)"
      ],
      "metadata": {
        "colab": {
          "base_uri": "https://localhost:8080/"
        },
        "id": "LNhkFne0pJ02",
        "outputId": "c534a148-fa9b-4cee-8714-11ed141a79b2"
      },
      "execution_count": null,
      "outputs": [
        {
          "output_type": "stream",
          "name": "stdout",
          "text": [
            "Epoch 1/20\n",
            "1563/1563 [==============================] - 204s 130ms/step - loss: 1.5256 - accuracy: 0.4392 - val_loss: 1.2226 - val_accuracy: 0.5598\n",
            "Epoch 2/20\n",
            "1563/1563 [==============================] - 208s 133ms/step - loss: 1.1761 - accuracy: 0.5797 - val_loss: 1.0216 - val_accuracy: 0.6352\n",
            "Epoch 3/20\n",
            "1563/1563 [==============================] - 205s 131ms/step - loss: 1.0200 - accuracy: 0.6377 - val_loss: 0.8841 - val_accuracy: 0.6848\n",
            "Epoch 4/20\n",
            "1563/1563 [==============================] - 205s 131ms/step - loss: 0.9304 - accuracy: 0.6709 - val_loss: 0.8228 - val_accuracy: 0.7137\n",
            "Epoch 5/20\n",
            "1563/1563 [==============================] - 208s 133ms/step - loss: 0.8680 - accuracy: 0.6952 - val_loss: 0.8407 - val_accuracy: 0.7072\n",
            "Epoch 6/20\n",
            "1563/1563 [==============================] - 203s 130ms/step - loss: 0.8305 - accuracy: 0.7069 - val_loss: 0.7571 - val_accuracy: 0.7352\n",
            "Epoch 7/20\n",
            "1563/1563 [==============================] - 203s 130ms/step - loss: 0.7900 - accuracy: 0.7224 - val_loss: 0.7537 - val_accuracy: 0.7421\n",
            "Epoch 8/20\n",
            "1563/1563 [==============================] - 219s 140ms/step - loss: 0.7582 - accuracy: 0.7340 - val_loss: 0.7122 - val_accuracy: 0.7557\n",
            "Epoch 9/20\n",
            "1563/1563 [==============================] - 216s 138ms/step - loss: 0.7368 - accuracy: 0.7426 - val_loss: 0.7218 - val_accuracy: 0.7493\n",
            "Epoch 10/20\n",
            "1563/1563 [==============================] - 215s 138ms/step - loss: 0.7088 - accuracy: 0.7507 - val_loss: 0.7017 - val_accuracy: 0.7571\n",
            "Epoch 11/20\n",
            "1563/1563 [==============================] - 206s 132ms/step - loss: 0.6979 - accuracy: 0.7538 - val_loss: 0.6750 - val_accuracy: 0.7709\n",
            "Epoch 12/20\n",
            "1563/1563 [==============================] - 204s 131ms/step - loss: 0.6829 - accuracy: 0.7587 - val_loss: 0.6989 - val_accuracy: 0.7607\n",
            "Epoch 13/20\n",
            "1563/1563 [==============================] - 204s 130ms/step - loss: 0.6697 - accuracy: 0.7662 - val_loss: 0.6637 - val_accuracy: 0.7757\n",
            "Epoch 14/20\n",
            "1563/1563 [==============================] - 204s 131ms/step - loss: 0.6526 - accuracy: 0.7703 - val_loss: 0.6624 - val_accuracy: 0.7746\n",
            "Epoch 15/20\n",
            "1563/1563 [==============================] - 204s 131ms/step - loss: 0.6426 - accuracy: 0.7779 - val_loss: 0.6568 - val_accuracy: 0.7791\n",
            "Epoch 16/20\n",
            "1563/1563 [==============================] - 203s 130ms/step - loss: 0.6279 - accuracy: 0.7811 - val_loss: 0.6615 - val_accuracy: 0.7773\n",
            "Epoch 17/20\n",
            "1563/1563 [==============================] - 204s 131ms/step - loss: 0.6192 - accuracy: 0.7844 - val_loss: 0.6643 - val_accuracy: 0.7749\n",
            "Epoch 18/20\n",
            "1563/1563 [==============================] - 203s 130ms/step - loss: 0.6114 - accuracy: 0.7851 - val_loss: 0.6551 - val_accuracy: 0.7767\n",
            "Epoch 19/20\n",
            "1563/1563 [==============================] - 206s 132ms/step - loss: 0.6062 - accuracy: 0.7888 - val_loss: 0.6715 - val_accuracy: 0.7760\n",
            "Epoch 20/20\n",
            "1563/1563 [==============================] - 213s 136ms/step - loss: 0.5904 - accuracy: 0.7931 - val_loss: 0.7210 - val_accuracy: 0.7611\n"
          ]
        },
        {
          "output_type": "execute_result",
          "data": {
            "text/plain": [
              "<keras.src.callbacks.History at 0x7b014cc4a590>"
            ]
          },
          "metadata": {},
          "execution_count": 7
        }
      ]
    },
    {
      "cell_type": "markdown",
      "source": [
        "Сохранение архитектуры нейронной сети. Здесь данные преобразуются в json, который затем записывается в model_structure."
      ],
      "metadata": {
        "id": "wWD45igtpXCn"
      }
    },
    {
      "cell_type": "code",
      "source": [
        "model_structure=model.to_json()\n",
        "f=Path(\"model_structure.json\")\n",
        "f.write_text(model_structure)"
      ],
      "metadata": {
        "colab": {
          "base_uri": "https://localhost:8080/"
        },
        "id": "Tcc3OOyvpYDH",
        "outputId": "3360ff41-f9ae-40c6-ff20-37be01d70a3f"
      },
      "execution_count": null,
      "outputs": [
        {
          "output_type": "execute_result",
          "data": {
            "text/plain": [
              "6342"
            ]
          },
          "metadata": {},
          "execution_count": 8
        }
      ]
    },
    {
      "cell_type": "markdown",
      "source": [
        "Формат сохранения - json. Мы также сохраним обученные нейронные веса для предсказаний."
      ],
      "metadata": {
        "id": "0NMXFajZpbz3"
      }
    },
    {
      "cell_type": "code",
      "source": [
        "model.save_weights(\"model_weight.h5\")"
      ],
      "metadata": {
        "id": "uLb7l-twpjP_"
      },
      "execution_count": null,
      "outputs": []
    },
    {
      "cell_type": "markdown",
      "source": [
        "Здесь начинается основная часть работы. Предсказания будут делаться по изображениям на основе меток на них."
      ],
      "metadata": {
        "id": "kJO9ZY9ppoCX"
      }
    },
    {
      "cell_type": "code",
      "source": [
        "from keras.models import model_from_json\n",
        "from pathlib import Path\n",
        "from keras.preprocessing import image\n",
        "import numpy as np"
      ],
      "metadata": {
        "id": "aNoR_j7rpvC-"
      },
      "execution_count": null,
      "outputs": []
    },
    {
      "cell_type": "markdown",
      "source": [
        "class_labels определены, соответственно, разделение производится на основе меток класса."
      ],
      "metadata": {
        "id": "iGldvvxyp6Ow"
      }
    },
    {
      "cell_type": "code",
      "source": [
        "class_labels=[\"Planes\",\"Car\",\"Bird\",\"Cat\",\"Deer\",\"Dog\",\"Frog\",\n",
        "              \"Horse\",\"Boat\",\"Truck\"]"
      ],
      "metadata": {
        "id": "4B7qo0H0p68W"
      },
      "execution_count": null,
      "outputs": []
    },
    {
      "cell_type": "markdown",
      "source": [
        "Загрузка json-файла, содержащего структуру модели, которую мы загрузили после завершения подгонки модели.\n",
        "\n",
        "write_text для записи данных в json-файл.\n",
        "\n",
        "read_text для чтения данных из json-файла."
      ],
      "metadata": {
        "id": "dU1-q2EPqHan"
      }
    },
    {
      "cell_type": "code",
      "source": [
        "f=Path(\"model_structure.json\")\n",
        "model_Structure=f.read_text()"
      ],
      "metadata": {
        "id": "KUus-KNhqIP2"
      },
      "execution_count": null,
      "outputs": []
    },
    {
      "cell_type": "markdown",
      "source": [
        "Загрузка изображения выполняется для тестирования. (load_img используется для загрузки изображения) размер используется (32,32), так как при создании модели задан размер (32,32)"
      ],
      "metadata": {
        "id": "jeWaXdQyqTBn"
      }
    },
    {
      "cell_type": "code",
      "source": [
        "from google.colab import drive\n",
        "from tensorflow.keras.utils import to_categorical, load_img, img_to_array\n",
        "import matplotlib.pyplot as plt\n",
        "drive.mount('/content/drive')\n",
        "# Загрузка и отображение изображения для тестирования\n",
        "img = load_img(\"/content/drive/MyDrive/Colab_Notebooks/horse.jpg\", target_size=(32, 32))\n",
        "plt.imshow(img)\n",
        "plt.axis('off')\n",
        "plt.show()"
      ],
      "metadata": {
        "colab": {
          "base_uri": "https://localhost:8080/",
          "height": 423
        },
        "id": "5tlsvpbGqUEG",
        "outputId": "81549b90-308f-4cef-e4d9-2dee4b3e7744"
      },
      "execution_count": 84,
      "outputs": [
        {
          "output_type": "stream",
          "name": "stdout",
          "text": [
            "Drive already mounted at /content/drive; to attempt to forcibly remount, call drive.mount(\"/content/drive\", force_remount=True).\n"
          ]
        },
        {
          "output_type": "display_data",
          "data": {
            "text/plain": [
              "<Figure size 640x480 with 1 Axes>"
            ],
            "image/png": "[encoded data removed]"
          },
          "metadata": {}
        }
      ]
    },
    {
      "cell_type": "markdown",
      "source": [
        "После загрузки изображения в переменную мы должны преобразовать его в массив numpy. Здесь изображение преобразуется в массив, а затем расширяется в соответствии с размерами массива согласно строке. (Для преобразования используется img_to_array)"
      ],
      "metadata": {
        "id": "7-QZYt9Qqevn"
      }
    },
    {
      "cell_type": "code",
      "source": [
        "from tensorflow.keras.utils import img_to_array\n",
        "imgtest=img_to_array(img)\n",
        "list_of_image=np.expand_dims(imgtest,axis=0)"
      ],
      "metadata": {
        "id": "6wWI6INpqkC-"
      },
      "execution_count": 85,
      "outputs": []
    },
    {
      "cell_type": "markdown",
      "source": [
        "После преобразования в массив. Затем на основе массива делаются прогнозы."
      ],
      "metadata": {
        "id": "hFipy26Uqr5_"
      }
    },
    {
      "cell_type": "code",
      "source": [
        "res=model.predict(list_of_image)"
      ],
      "metadata": {
        "colab": {
          "base_uri": "https://localhost:8080/"
        },
        "id": "8P9VoYKnqvz2",
        "outputId": "19559265-ae6c-4df4-9ee6-ef4d31845ab2"
      },
      "execution_count": 86,
      "outputs": [
        {
          "output_type": "stream",
          "name": "stdout",
          "text": [
            "1/1 [==============================] - 0s 22ms/step\n"
          ]
        }
      ]
    },
    {
      "cell_type": "markdown",
      "source": [
        "Учитывается только один результат, так как берется только одно изображение. Если есть группа изображений, то запускается цикл, или набор данных классифицируется соответствующим образом. Распечатывается массив для всех меток."
      ],
      "metadata": {
        "id": "g5VHtCZ0q7vP"
      }
    },
    {
      "cell_type": "code",
      "source": [
        "sr=res[0]\n",
        "print(sr)"
      ],
      "metadata": {
        "colab": {
          "base_uri": "https://localhost:8080/"
        },
        "id": "dPZu6RpOq8dG",
        "outputId": "a54f5bf2-58ac-4711-d69d-4fff2f71883b"
      },
      "execution_count": 87,
      "outputs": [
        {
          "output_type": "stream",
          "name": "stdout",
          "text": [
            "[0. 0. 0. 0. 0. 0. 0. 1. 0. 0.]\n"
          ]
        }
      ]
    },
    {
      "cell_type": "markdown",
      "source": [
        "Мы получим оценку, которая представляет собой вероятность всех 10 возможных классов. Когда изображение получает наивысшую оценку вероятности, ему присваивается метка. В результате будет выведена метка изображения."
      ],
      "metadata": {
        "id": "JOOMoeJkrEa3"
      }
    },
    {
      "cell_type": "code",
      "source": [
        "mostlci=int(np.argmax(sr))\n",
        "clh=class_labels[mostlci]\n",
        "print(clh,mostlci)"
      ],
      "metadata": {
        "colab": {
          "base_uri": "https://localhost:8080/"
        },
        "id": "tnAokHisrI1t",
        "outputId": "6da9d858-ac8e-4260-d5b0-cf3ec927ca34"
      },
      "execution_count": 88,
      "outputs": [
        {
          "output_type": "stream",
          "name": "stdout",
          "text": [
            "Horse 7\n"
          ]
        }
      ]
    }
  ]
}